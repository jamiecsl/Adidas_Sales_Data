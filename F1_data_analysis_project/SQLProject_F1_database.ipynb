{
 "cells": [
  {
   "cell_type": "code",
   "execution_count": 1,
   "id": "f43de88f",
   "metadata": {},
   "outputs": [],
   "source": [
    "import sqlite3\n",
    "import pandas as pd"
   ]
  },
  {
   "cell_type": "code",
   "execution_count": 2,
   "id": "d9ed7f32",
   "metadata": {},
   "outputs": [],
   "source": [
    "con = sqlite3.connect(\"/Users/jamie/Downloads/archive (7)/Formula1_4tables.sqlite\")"
   ]
  },
  {
   "cell_type": "code",
   "execution_count": 3,
   "id": "429d3b27",
   "metadata": {},
   "outputs": [
    {
     "data": {
      "text/plain": [
       "[('circuits',), ('races',), ('drivers',), ('results',)]"
      ]
     },
     "execution_count": 3,
     "metadata": {},
     "output_type": "execute_result"
    }
   ],
   "source": [
    "cursor = con.cursor()\n",
    "cursor.execute(\"SELECT name FROM sqlite_master WHERE type='table';\")\n",
    "tables = cursor.fetchall()\n",
    "tables"
   ]
  },
  {
   "cell_type": "code",
   "execution_count": 4,
   "id": "94026cf9",
   "metadata": {},
   "outputs": [
    {
     "name": "stdout",
     "output_type": "stream",
     "text": [
      "Table: circuits\n",
      "Column Names: ['circuitId', 'circuitRef', 'name', 'location', 'country', 'lat', 'lng', 'alt', 'url']\n",
      "First Row: (1, 'albert_park', 'Albert Park Grand Prix Circuit', 'Melbourne', 'Australia', -37.8497, 144.968, 10, 'http://en.wikipedia.org/wiki/Melbourne_Grand_Prix_Circuit')\n",
      "\n",
      "Table: races\n",
      "Column Names: ['raceId', 'year', 'round', 'circuitId', 'name', 'date', 'time', 'url']\n",
      "First Row: (1, 2009, 1, 1, 'Australian Grand Prix', '2009-03-29', '06:00:00', 'http://en.wikipedia.org/wiki/2009_Australian_Grand_Prix')\n",
      "\n",
      "Table: drivers\n",
      "Column Names: ['driverId', 'driverRef', 'number', 'code', 'forename', 'surname', 'dob', 'nationality', 'url']\n",
      "First Row: (1, 'hamilton', '44', 'HAM', 'Lewis', 'Hamilton', '07/01/1985', 'British', 'http://en.wikipedia.org/wiki/Lewis_Hamilton')\n",
      "\n",
      "Table: results\n",
      "Column Names: ['resultId', 'raceId', 'driverId', 'constructorId', 'number', 'grid', 'position', 'positionText', 'positionOrder', 'points', 'laps', 'time', 'milliseconds', 'fastestLap', 'rank', 'fastestLapTime', 'fastestLapSpeed', 'statusId']\n",
      "First Row: ('1', 18, 1, 1, 22, 1, 1, '1', 1, 10, 58, '34:50.6', 5690616, '39', 2, '01:27.5', 218.3, 1)\n",
      "\n"
     ]
    }
   ],
   "source": [
    "for table in tables:\n",
    "    table_name = table[0]\n",
    "    print(f\"Table: {table_name}\")\n",
    "    \n",
    "    # Get the first row and column names for the table\n",
    "    cursor.execute(f\"SELECT * FROM {table_name} LIMIT 1;\")\n",
    "    first_row = cursor.fetchone()\n",
    "    column_names = [desc[0] for desc in cursor.description]\n",
    "    \n",
    "    print(\"Column Names:\", column_names)\n",
    "    print(\"First Row:\", first_row)\n",
    "    print()"
   ]
  },
  {
   "cell_type": "code",
   "execution_count": 5,
   "id": "3c8a3b04",
   "metadata": {},
   "outputs": [],
   "source": [
    "query = (\"SELECT d.grid, d.position, d.positionOrder, d.points, a.country, b.date, b.round, b.name, b.time, \"\n",
    "         \"d.laps, d.laps, d.time, d.milliseconds, d.fastestLap, d.rank, d.fastestLapTime, d.fastestLapSpeed, \"\n",
    "         \"c.forename, c.surname, c.dob \"\n",
    "         \"FROM results AS d \"\n",
    "         \"LEFT JOIN drivers AS c ON d.driverId = c.driverId \"\n",
    "         \"LEFT JOIN races AS b ON d.raceId = b.raceId \"\n",
    "         \"LEFT JOIN circuits AS a ON b.circuitId = a.circuitId\")"
   ]
  },
  {
   "cell_type": "code",
   "execution_count": 6,
   "id": "e80c8d65",
   "metadata": {},
   "outputs": [
    {
     "data": {
      "text/html": [
       "<div>\n",
       "<style scoped>\n",
       "    .dataframe tbody tr th:only-of-type {\n",
       "        vertical-align: middle;\n",
       "    }\n",
       "\n",
       "    .dataframe tbody tr th {\n",
       "        vertical-align: top;\n",
       "    }\n",
       "\n",
       "    .dataframe thead th {\n",
       "        text-align: right;\n",
       "    }\n",
       "</style>\n",
       "<table border=\"1\" class=\"dataframe\">\n",
       "  <thead>\n",
       "    <tr style=\"text-align: right;\">\n",
       "      <th></th>\n",
       "      <th>grid</th>\n",
       "      <th>position</th>\n",
       "      <th>positionOrder</th>\n",
       "      <th>points</th>\n",
       "      <th>country</th>\n",
       "      <th>date</th>\n",
       "      <th>round</th>\n",
       "      <th>name</th>\n",
       "      <th>time</th>\n",
       "      <th>laps</th>\n",
       "      <th>laps</th>\n",
       "      <th>time</th>\n",
       "      <th>milliseconds</th>\n",
       "      <th>fastestLap</th>\n",
       "      <th>rank</th>\n",
       "      <th>fastestLapTime</th>\n",
       "      <th>fastestLapSpeed</th>\n",
       "      <th>forename</th>\n",
       "      <th>surname</th>\n",
       "      <th>dob</th>\n",
       "    </tr>\n",
       "  </thead>\n",
       "  <tbody>\n",
       "    <tr>\n",
       "      <th>0</th>\n",
       "      <td>1</td>\n",
       "      <td>1</td>\n",
       "      <td>1</td>\n",
       "      <td>10.0</td>\n",
       "      <td>Australia</td>\n",
       "      <td>2008-03-16</td>\n",
       "      <td>1</td>\n",
       "      <td>Australian Grand Prix</td>\n",
       "      <td>04:30:00</td>\n",
       "      <td>58</td>\n",
       "      <td>58</td>\n",
       "      <td>34:50.6</td>\n",
       "      <td>5690616</td>\n",
       "      <td>39</td>\n",
       "      <td>2</td>\n",
       "      <td>01:27.5</td>\n",
       "      <td>218.3</td>\n",
       "      <td>Lewis</td>\n",
       "      <td>Hamilton</td>\n",
       "      <td>07/01/1985</td>\n",
       "    </tr>\n",
       "    <tr>\n",
       "      <th>1</th>\n",
       "      <td>5</td>\n",
       "      <td>2</td>\n",
       "      <td>2</td>\n",
       "      <td>8.0</td>\n",
       "      <td>Australia</td>\n",
       "      <td>2008-03-16</td>\n",
       "      <td>1</td>\n",
       "      <td>Australian Grand Prix</td>\n",
       "      <td>04:30:00</td>\n",
       "      <td>58</td>\n",
       "      <td>58</td>\n",
       "      <td>5.478</td>\n",
       "      <td>5696094</td>\n",
       "      <td>41</td>\n",
       "      <td>3</td>\n",
       "      <td>01:27.7</td>\n",
       "      <td>217.586</td>\n",
       "      <td>Nick</td>\n",
       "      <td>Heidfeld</td>\n",
       "      <td>10/05/1977</td>\n",
       "    </tr>\n",
       "    <tr>\n",
       "      <th>2</th>\n",
       "      <td>7</td>\n",
       "      <td>3</td>\n",
       "      <td>3</td>\n",
       "      <td>6.0</td>\n",
       "      <td>Australia</td>\n",
       "      <td>2008-03-16</td>\n",
       "      <td>1</td>\n",
       "      <td>Australian Grand Prix</td>\n",
       "      <td>04:30:00</td>\n",
       "      <td>58</td>\n",
       "      <td>58</td>\n",
       "      <td>8.163</td>\n",
       "      <td>5698779</td>\n",
       "      <td>41</td>\n",
       "      <td>5</td>\n",
       "      <td>01:28.1</td>\n",
       "      <td>216.719</td>\n",
       "      <td>Nico</td>\n",
       "      <td>Rosberg</td>\n",
       "      <td>27/06/1985</td>\n",
       "    </tr>\n",
       "    <tr>\n",
       "      <th>3</th>\n",
       "      <td>11</td>\n",
       "      <td>4</td>\n",
       "      <td>4</td>\n",
       "      <td>5.0</td>\n",
       "      <td>Australia</td>\n",
       "      <td>2008-03-16</td>\n",
       "      <td>1</td>\n",
       "      <td>Australian Grand Prix</td>\n",
       "      <td>04:30:00</td>\n",
       "      <td>58</td>\n",
       "      <td>58</td>\n",
       "      <td>17.181</td>\n",
       "      <td>5707797</td>\n",
       "      <td>58</td>\n",
       "      <td>7</td>\n",
       "      <td>01:28.6</td>\n",
       "      <td>215.464</td>\n",
       "      <td>Fernando</td>\n",
       "      <td>Alonso</td>\n",
       "      <td>29/07/1981</td>\n",
       "    </tr>\n",
       "    <tr>\n",
       "      <th>4</th>\n",
       "      <td>3</td>\n",
       "      <td>5</td>\n",
       "      <td>5</td>\n",
       "      <td>4.0</td>\n",
       "      <td>Australia</td>\n",
       "      <td>2008-03-16</td>\n",
       "      <td>1</td>\n",
       "      <td>Australian Grand Prix</td>\n",
       "      <td>04:30:00</td>\n",
       "      <td>58</td>\n",
       "      <td>58</td>\n",
       "      <td>18.014</td>\n",
       "      <td>5708630</td>\n",
       "      <td>43</td>\n",
       "      <td>1</td>\n",
       "      <td>01:27.4</td>\n",
       "      <td>218.385</td>\n",
       "      <td>Heikki</td>\n",
       "      <td>Kovalainen</td>\n",
       "      <td>19/10/1981</td>\n",
       "    </tr>\n",
       "  </tbody>\n",
       "</table>\n",
       "</div>"
      ],
      "text/plain": [
       "   grid position  positionOrder  points    country        date  round  \\\n",
       "0     1        1              1    10.0  Australia  2008-03-16      1   \n",
       "1     5        2              2     8.0  Australia  2008-03-16      1   \n",
       "2     7        3              3     6.0  Australia  2008-03-16      1   \n",
       "3    11        4              4     5.0  Australia  2008-03-16      1   \n",
       "4     3        5              5     4.0  Australia  2008-03-16      1   \n",
       "\n",
       "                    name      time  laps  laps     time milliseconds  \\\n",
       "0  Australian Grand Prix  04:30:00    58    58  34:50.6      5690616   \n",
       "1  Australian Grand Prix  04:30:00    58    58    5.478      5696094   \n",
       "2  Australian Grand Prix  04:30:00    58    58    8.163      5698779   \n",
       "3  Australian Grand Prix  04:30:00    58    58   17.181      5707797   \n",
       "4  Australian Grand Prix  04:30:00    58    58   18.014      5708630   \n",
       "\n",
       "  fastestLap rank fastestLapTime fastestLapSpeed  forename     surname  \\\n",
       "0         39    2        01:27.5           218.3     Lewis    Hamilton   \n",
       "1         41    3        01:27.7         217.586      Nick    Heidfeld   \n",
       "2         41    5        01:28.1         216.719      Nico     Rosberg   \n",
       "3         58    7        01:28.6         215.464  Fernando      Alonso   \n",
       "4         43    1        01:27.4         218.385    Heikki  Kovalainen   \n",
       "\n",
       "          dob  \n",
       "0  07/01/1985  \n",
       "1  10/05/1977  \n",
       "2  27/06/1985  \n",
       "3  29/07/1981  \n",
       "4  19/10/1981  "
      ]
     },
     "execution_count": 6,
     "metadata": {},
     "output_type": "execute_result"
    }
   ],
   "source": [
    "df = pd.read_sql_query(query, con)\n",
    "df.head()"
   ]
  },
  {
   "cell_type": "code",
   "execution_count": 7,
   "id": "d0f7a2e2",
   "metadata": {},
   "outputs": [],
   "source": [
    "con.close()"
   ]
  },
  {
   "cell_type": "code",
   "execution_count": 8,
   "id": "ead2f7a3",
   "metadata": {},
   "outputs": [
    {
     "data": {
      "text/plain": [
       "grid                 int64\n",
       "position            object\n",
       "positionOrder        int64\n",
       "points             float64\n",
       "country             object\n",
       "date                object\n",
       "round                int64\n",
       "name                object\n",
       "time                object\n",
       "laps                 int64\n",
       "laps                 int64\n",
       "time                object\n",
       "milliseconds        object\n",
       "fastestLap          object\n",
       "rank                object\n",
       "fastestLapTime      object\n",
       "fastestLapSpeed     object\n",
       "forename            object\n",
       "surname             object\n",
       "dob                 object\n",
       "dtype: object"
      ]
     },
     "execution_count": 8,
     "metadata": {},
     "output_type": "execute_result"
    }
   ],
   "source": [
    "df.dtypes"
   ]
  },
  {
   "cell_type": "code",
   "execution_count": 26,
   "id": "41ab5f1b",
   "metadata": {},
   "outputs": [],
   "source": [
    "df.to_csv(\"F1_dataset.csv\")"
   ]
  }
 ],
 "metadata": {
  "kernelspec": {
   "display_name": "Python 3 (ipykernel)",
   "language": "python",
   "name": "python3"
  },
  "language_info": {
   "codemirror_mode": {
    "name": "ipython",
    "version": 3
   },
   "file_extension": ".py",
   "mimetype": "text/x-python",
   "name": "python",
   "nbconvert_exporter": "python",
   "pygments_lexer": "ipython3",
   "version": "3.9.13"
  }
 },
 "nbformat": 4,
 "nbformat_minor": 5
}
