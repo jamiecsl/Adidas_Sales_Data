{
 "cells": [
  {
   "cell_type": "code",
   "execution_count": 1,
   "id": "4412bd81",
   "metadata": {},
   "outputs": [],
   "source": [
    "import pandas as pd\n",
    "import matplotlib.pyplot as plt\n",
    "import seaborn as sns\n",
    "\n",
    "pd.set_option('display.float_format', '{:.2f}'.format)"
   ]
  },
  {
   "cell_type": "code",
   "execution_count": 2,
   "id": "12772b99",
   "metadata": {},
   "outputs": [],
   "source": [
    "df = pd.read_csv(\"/Users/jamie/Downloads/Adidas US Sales Datasets.csv\")"
   ]
  },
  {
   "cell_type": "markdown",
   "id": "70ab1b0c",
   "metadata": {},
   "source": [
    "Data Cleaning:\n",
    "    <ul>Turning the data to the correct datatype</ul>\n",
    "    <ol>1. Turn the Invoce Date cloumn to datetime datatype</ol>\n",
    "    <ol>2.Dropping the symbol and turn the numerical data to int or float</ol>\n",
    "   \n",
    "    "
   ]
  },
  {
   "cell_type": "code",
   "execution_count": 3,
   "id": "0f5fc627",
   "metadata": {},
   "outputs": [
    {
     "name": "stderr",
     "output_type": "stream",
     "text": [
      "/var/folders/c_/vs778dgn3lgdd5pnlw2f4qz40000gn/T/ipykernel_66053/2128143986.py:2: FutureWarning: The default value of regex will change from True to False in a future version. In addition, single character regular expressions will *not* be treated as literal strings when regex=True.\n",
      "  df[\"Price per Unit\"] = df[\"Price per Unit\"].str.replace(\"$\",\"\").astype(float)\n",
      "/var/folders/c_/vs778dgn3lgdd5pnlw2f4qz40000gn/T/ipykernel_66053/2128143986.py:3: FutureWarning: The default value of regex will change from True to False in a future version. In addition, single character regular expressions will *not* be treated as literal strings when regex=True.\n",
      "  df[\"Total Sales\"] = df[\"Total Sales\"].str.replace(\"$\", \"\").str.replace(\",\", \"\").astype(float)\n",
      "/var/folders/c_/vs778dgn3lgdd5pnlw2f4qz40000gn/T/ipykernel_66053/2128143986.py:4: FutureWarning: The default value of regex will change from True to False in a future version. In addition, single character regular expressions will *not* be treated as literal strings when regex=True.\n",
      "  df[\"Operating Profit\"] = df[\"Operating Profit\"].str.replace(\"$\", \"\").str.replace(\",\", \"\").astype(float)\n"
     ]
    }
   ],
   "source": [
    "df[\"Invoice Date\"] = pd.to_datetime(df[\"Invoice Date\"], format=\"%d/%m/%Y\")\n",
    "df[\"Price per Unit\"] = df[\"Price per Unit\"].str.replace(\"$\",\"\").astype(float)\n",
    "df[\"Total Sales\"] = df[\"Total Sales\"].str.replace(\"$\", \"\").str.replace(\",\", \"\").astype(float)\n",
    "df[\"Operating Profit\"] = df[\"Operating Profit\"].str.replace(\"$\", \"\").str.replace(\",\", \"\").astype(float)\n",
    "df[\"Operating Margin\"] = df[\"Operating Margin\"].str.replace(\"%\",\"\").astype(float) / 100\n",
    "df[\"Units Sold\"] = df[\"Units Sold\"].str.replace(\",\",\"\").astype(int)"
   ]
  },
  {
   "cell_type": "markdown",
   "id": "6fe9a60c",
   "metadata": {},
   "source": [
    "Creating a pivot table to show the values of all the numerical columns"
   ]
  },
  {
   "cell_type": "code",
   "execution_count": 4,
   "id": "c9a9cfb5",
   "metadata": {},
   "outputs": [
    {
     "data": {
      "text/html": [
       "<div>\n",
       "<style scoped>\n",
       "    .dataframe tbody tr th:only-of-type {\n",
       "        vertical-align: middle;\n",
       "    }\n",
       "\n",
       "    .dataframe tbody tr th {\n",
       "        vertical-align: top;\n",
       "    }\n",
       "\n",
       "    .dataframe thead th {\n",
       "        text-align: right;\n",
       "    }\n",
       "</style>\n",
       "<table border=\"1\" class=\"dataframe\">\n",
       "  <thead>\n",
       "    <tr style=\"text-align: right;\">\n",
       "      <th></th>\n",
       "      <th>Operating Profit</th>\n",
       "      <th>Total Sales</th>\n",
       "      <th>Units Sold</th>\n",
       "    </tr>\n",
       "    <tr>\n",
       "      <th>Invoice Date</th>\n",
       "      <th></th>\n",
       "      <th></th>\n",
       "      <th></th>\n",
       "    </tr>\n",
       "  </thead>\n",
       "  <tbody>\n",
       "    <tr>\n",
       "      <th>2020-01-01</th>\n",
       "      <td>63688.67</td>\n",
       "      <td>140856.83</td>\n",
       "      <td>393.50</td>\n",
       "    </tr>\n",
       "    <tr>\n",
       "      <th>2020-01-02</th>\n",
       "      <td>37657.83</td>\n",
       "      <td>114901.67</td>\n",
       "      <td>385.00</td>\n",
       "    </tr>\n",
       "    <tr>\n",
       "      <th>2020-01-03</th>\n",
       "      <td>33713.17</td>\n",
       "      <td>105428.83</td>\n",
       "      <td>383.67</td>\n",
       "    </tr>\n",
       "    <tr>\n",
       "      <th>2020-01-04</th>\n",
       "      <td>38039.17</td>\n",
       "      <td>102513.33</td>\n",
       "      <td>347.50</td>\n",
       "    </tr>\n",
       "    <tr>\n",
       "      <th>2020-01-05</th>\n",
       "      <td>37065.33</td>\n",
       "      <td>117971.50</td>\n",
       "      <td>319.50</td>\n",
       "    </tr>\n",
       "    <tr>\n",
       "      <th>...</th>\n",
       "      <td>...</td>\n",
       "      <td>...</td>\n",
       "      <td>...</td>\n",
       "    </tr>\n",
       "    <tr>\n",
       "      <th>2021-12-27</th>\n",
       "      <td>56592.00</td>\n",
       "      <td>120470.60</td>\n",
       "      <td>262.80</td>\n",
       "    </tr>\n",
       "    <tr>\n",
       "      <th>2021-12-28</th>\n",
       "      <td>21271.80</td>\n",
       "      <td>60202.00</td>\n",
       "      <td>149.80</td>\n",
       "    </tr>\n",
       "    <tr>\n",
       "      <th>2021-12-29</th>\n",
       "      <td>17056.20</td>\n",
       "      <td>42221.80</td>\n",
       "      <td>111.40</td>\n",
       "    </tr>\n",
       "    <tr>\n",
       "      <th>2021-12-30</th>\n",
       "      <td>12422.00</td>\n",
       "      <td>33580.60</td>\n",
       "      <td>88.40</td>\n",
       "    </tr>\n",
       "    <tr>\n",
       "      <th>2021-12-31</th>\n",
       "      <td>12624.60</td>\n",
       "      <td>39731.80</td>\n",
       "      <td>87.80</td>\n",
       "    </tr>\n",
       "  </tbody>\n",
       "</table>\n",
       "<p>724 rows × 3 columns</p>\n",
       "</div>"
      ],
      "text/plain": [
       "              Operating Profit  Total Sales  Units Sold\n",
       "Invoice Date                                           \n",
       "2020-01-01            63688.67    140856.83      393.50\n",
       "2020-01-02            37657.83    114901.67      385.00\n",
       "2020-01-03            33713.17    105428.83      383.67\n",
       "2020-01-04            38039.17    102513.33      347.50\n",
       "2020-01-05            37065.33    117971.50      319.50\n",
       "...                        ...          ...         ...\n",
       "2021-12-27            56592.00    120470.60      262.80\n",
       "2021-12-28            21271.80     60202.00      149.80\n",
       "2021-12-29            17056.20     42221.80      111.40\n",
       "2021-12-30            12422.00     33580.60       88.40\n",
       "2021-12-31            12624.60     39731.80       87.80\n",
       "\n",
       "[724 rows x 3 columns]"
      ]
     },
     "execution_count": 4,
     "metadata": {},
     "output_type": "execute_result"
    }
   ],
   "source": [
    "Total_sales_performance = df.pivot_table(values=['Units Sold', 'Total Sales', 'Operating Profit']\n",
    "               , index=\"Invoice Date\")\n",
    "\n",
    "Total_sales_performance.sort_index()"
   ]
  },
  {
   "cell_type": "markdown",
   "id": "cf07eb19",
   "metadata": {},
   "source": [
    "Split the pivot table by years and cumulate the values for the year"
   ]
  },
  {
   "cell_type": "code",
   "execution_count": 5,
   "id": "4fbe2258",
   "metadata": {},
   "outputs": [],
   "source": [
    "Total_sales_performance_2020 = Total_sales_performance.loc[Total_sales_performance.index.year == 2020]"
   ]
  },
  {
   "cell_type": "code",
   "execution_count": 6,
   "id": "259b02f9",
   "metadata": {},
   "outputs": [],
   "source": [
    "Total_sales_performance_2021 = Total_sales_performance.loc[Total_sales_performance.index.year == 2021]"
   ]
  },
  {
   "cell_type": "code",
   "execution_count": 7,
   "id": "b55d1d22",
   "metadata": {},
   "outputs": [],
   "source": [
    "Total_sales_performance_2020 = Total_sales_performance_2020.cumsum()"
   ]
  },
  {
   "cell_type": "code",
   "execution_count": 8,
   "id": "2aa3fb51",
   "metadata": {},
   "outputs": [],
   "source": [
    "Total_sales_performance_2021 = Total_sales_performance_2021.cumsum()"
   ]
  },
  {
   "cell_type": "markdown",
   "id": "1a1d5dd3",
   "metadata": {},
   "source": [
    "Find the max cumulated value of the Total Sales in 2020 and 2021, and use it as the max value of the Y-axis.<br>\n",
    "So that the graph of each year could share the same max value."
   ]
  },
  {
   "cell_type": "code",
   "execution_count": 9,
   "id": "49fd72d1",
   "metadata": {},
   "outputs": [],
   "source": [
    "max_value = max(Total_sales_performance_2020[\"Total Sales\"].max(), \n",
    "                Total_sales_performance_2020[\"Total Sales\"].max())"
   ]
  },
  {
   "cell_type": "code",
   "execution_count": 10,
   "id": "f3a59690",
   "metadata": {},
   "outputs": [
    {
     "data": {
      "image/png": "[encoded data removed]",
      "text/plain": [
       "<Figure size 640x480 with 1 Axes>"
      ]
     },
     "metadata": {},
     "output_type": "display_data"
    }
   ],
   "source": [
    "try:\n",
    "    plt.plot(Total_sales_performance_2021.index, Total_sales_performance_2021['Total Sales'], label='2021')\n",
    "    plt.ylim(0, max_value)\n",
    "    plt.gca().get_yaxis().get_major_formatter().set_scientific(False)\n",
    "    plt.xlabel('2021')\n",
    "    plt.ylabel('Total Sales')\n",
    "    plt.title('Total Sales in 2021')\n",
    "    plt.legend()\n",
    "    plt.show()\n",
    "    \n",
    "except KeyError:\n",
    "    pass"
   ]
  },
  {
   "cell_type": "code",
   "execution_count": 11,
   "id": "f2fce08d",
   "metadata": {},
   "outputs": [
    {
     "data": {
      "image/png": "[encoded data removed]",
      "text/plain": [
       "<Figure size 640x480 with 1 Axes>"
      ]
     },
     "metadata": {},
     "output_type": "display_data"
    }
   ],
   "source": [
    "try:\n",
    "    plt.plot(Total_sales_performance_2020.index, Total_sales_performance_2020['Total Sales'], label='2020')\n",
    "    plt.ylim(0, max_value)\n",
    "    plt.gca().get_yaxis().get_major_formatter().set_scientific(False)\n",
    "\n",
    "    plt.xlabel('2020')\n",
    "    plt.ylabel('Total Sales')\n",
    "    plt.title('Total Sales in 2020')\n",
    "\n",
    "    plt.legend()\n",
    "    plt.show()\n",
    "    \n",
    "except KeyError:\n",
    "    pass"
   ]
  },
  {
   "cell_type": "code",
   "execution_count": null,
   "id": "811ea87e",
   "metadata": {},
   "outputs": [],
   "source": []
  },
  {
   "cell_type": "code",
   "execution_count": 21,
   "id": "99371e57",
   "metadata": {},
   "outputs": [
    {
     "data": {
      "text/plain": [
       "DatetimeIndex(['2020-01-01', '2020-01-02', '2020-01-03', '2020-01-04',\n",
       "               '2020-01-05', '2020-01-06', '2020-01-07', '2020-01-08',\n",
       "               '2020-01-09', '2020-01-10',\n",
       "               ...\n",
       "               '2021-12-22', '2021-12-23', '2021-12-24', '2021-12-25',\n",
       "               '2021-12-26', '2021-12-27', '2021-12-28', '2021-12-29',\n",
       "               '2021-12-30', '2021-12-31'],\n",
       "              dtype='datetime64[ns]', name='Invoice Date', length=724, freq=None)"
      ]
     },
     "execution_count": 21,
     "metadata": {},
     "output_type": "execute_result"
    }
   ],
   "source": [
    "Total_Sales_performance_compare = pd.concat([Total_sales_performance_2021,Total_sales_performance_2020], axis=1, ignore_index=True)\n",
    "Total_Sales_performance_compare.unstack()\n",
    "Total_Sales_performance_compare.index"
   ]
  },
  {
   "cell_type": "code",
   "execution_count": 19,
   "id": "81dc2541",
   "metadata": {},
   "outputs": [
    {
     "data": {
      "text/plain": [
       "(0, 6)"
      ]
     },
     "execution_count": 19,
     "metadata": {},
     "output_type": "execute_result"
    }
   ],
   "source": [
    "Total_Sales_performance_compare = Total_Sales_performance_compare.dropna()\n",
    "Total_Sales_performance_compare.shape"
   ]
  },
  {
   "cell_type": "code",
   "execution_count": null,
   "id": "d5160f62",
   "metadata": {},
   "outputs": [],
   "source": []
  }
 ],
 "metadata": {
  "kernelspec": {
   "display_name": "Python 3 (ipykernel)",
   "language": "python",
   "name": "python3"
  },
  "language_info": {
   "codemirror_mode": {
    "name": "ipython",
    "version": 3
   },
   "file_extension": ".py",
   "mimetype": "text/x-python",
   "name": "python",
   "nbconvert_exporter": "python",
   "pygments_lexer": "ipython3",
   "version": "3.9.13"
  }
 },
 "nbformat": 4,
 "nbformat_minor": 5
}
